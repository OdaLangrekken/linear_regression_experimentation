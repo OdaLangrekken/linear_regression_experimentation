{
 "cells": [
  {
   "cell_type": "code",
   "execution_count": 29,
   "id": "273b6da2",
   "metadata": {},
   "outputs": [],
   "source": [
    "import numpy as np\n",
    "import matplotlib.pyplot as plt\n",
    "import pandas as pd\n",
    "import statsmodels.api as sm\n",
    "from sklearn.linear_model import LinearRegression\n",
    "import seaborn as sns"
   ]
  },
  {
   "cell_type": "code",
   "execution_count": 70,
   "id": "61093391",
   "metadata": {},
   "outputs": [],
   "source": [
    "def normal_equation(x, y):\n",
    "    \"\"\"\n",
    "    Function that finds the parameters that minimize the residual sum of squares by solving the normal equation.\n",
    "    \n",
    "    Parameters:\n",
    "       x (array of shape (n, m)): array containing the m different predictors\n",
    "       y (array of shape (n, 1)): array containing the response\n",
    "       \n",
    "    Output:\n",
    "       params (array of shape (m+1,1)): parameters that minimize the residual sum of squares\n",
    "    \"\"\"\n",
    "    params =  np.dot(np.dot(np.linalg.inv(np.dot(X.T, X)), X.T), y)\n",
    "    return params"
   ]
  },
  {
   "cell_type": "code",
   "execution_count": 80,
   "id": "7696ad6d",
   "metadata": {
    "scrolled": true
   },
   "outputs": [
    {
     "data": {
      "text/plain": [
       "array([-2.73519947,  3.95631204, -0.03920048])"
      ]
     },
     "execution_count": 80,
     "metadata": {},
     "output_type": "execute_result"
    }
   ],
   "source": [
    "def create_design_matrix(inputs, data):\n",
    "    \"\"\"\n",
    "    Function that creates the design matrix, which contains the data on the independent variables. \n",
    "    \n",
    "    Parameters:\n",
    "       inputs (str): string that contains all the terms, separated by a +\n",
    "       data (df): dataframe that contains the necessary data\n",
    "       \n",
    "    Output:\n",
    "       X (df): dataframe of the independent variables\n",
    "    \"\"\"\n",
    "    X = pd.DataFrame()  # Create empty dataframe\n",
    "    n = len(data)     \n",
    "    X['bias'] = np.ones(n)  # Add bias, x0=0, to X matrix\n",
    "    predictors = inputs.split('+')  # Split string of inputs into different erms\n",
    "    for predictor in predictors:\n",
    "        predictor = predictor.strip()  # Remove whitespaces\n",
    "        if 'np.power' in predictor:\n",
    "            # Polynomial terms\n",
    "            X[predictor] = np.power(df[predictor[-4]], int(predictor[-2]))\n",
    "        else:\n",
    "            X[predictor] = df[predictor]\n",
    "    return X\n",
    "\n",
    "X = create_design_matrix('x + np.power(x,2)', df)\n",
    "params = normal_equation(X, y)\n",
    "params"
   ]
  },
  {
   "cell_type": "code",
   "execution_count": 99,
   "id": "07eb551e",
   "metadata": {},
   "outputs": [
    {
     "data": {
      "text/plain": [
       "array([-2.73519947,  3.95631204, -0.03920048])"
      ]
     },
     "execution_count": 99,
     "metadata": {},
     "output_type": "execute_result"
    }
   ],
   "source": [
    "class LinearModel():\n",
    "    def __init__(self, formula, data):\n",
    "        self.formula = formula\n",
    "        self.data = data\n",
    "        \n",
    "    def fit(self):\n",
    "        predictors = self.formula.split('~')[1].strip()\n",
    "        target = self.formula.split('~')[0].strip()\n",
    "        X = self.create_design_matrix(predictors, self.data)\n",
    "        self.params = self.normal_equation(X, df[target])\n",
    "    \n",
    "    \n",
    "    def create_design_matrix(self, inputs, data):\n",
    "        \"\"\"\n",
    "        Function that creates the design matrix, which contains the data on the independent variables. \n",
    "    \n",
    "        Parameters:\n",
    "           inputs (str): string that contains all the terms, separated by a +\n",
    "           data (df): dataframe that contains the necessary data\n",
    "       \n",
    "        Output:\n",
    "           X (df): dataframe of the independent variables\n",
    "        \"\"\"\n",
    "        X = pd.DataFrame()  # Create empty dataframe\n",
    "        n = len(data)     \n",
    "        X['bias'] = np.ones(n)  # Add bias, x0=0, to X matrix\n",
    "        predictors = inputs.split('+')  # Split string of inputs into different erms\n",
    "        for predictor in predictors:\n",
    "            predictor = predictor.strip()  # Remove whitespaces\n",
    "            if 'np.power' in predictor:\n",
    "                # Polynomial terms\n",
    "                X[predictor] = np.power(df[predictor[-4]], int(predictor[-2]))\n",
    "            else:\n",
    "                X[predictor] = df[predictor]\n",
    "        return X\n",
    "\n",
    "    def normal_equation(self, x, y):\n",
    "        \"\"\"\n",
    "        Function that finds the parameters that minimize the residual sum of squares by solving the normal equation.\n",
    "    \n",
    "        Parameters:\n",
    "           x (array of shape (n, m)): array containing the m different predictors\n",
    "           y (array of shape (n, 1)): array containing the response\n",
    "       \n",
    "        Output:\n",
    "           params (array of shape (m+1,1)): parameters that minimize the residual sum of squares\n",
    "        \"\"\"\n",
    "        params =  np.dot(np.dot(np.linalg.inv(np.dot(X.T, X)), X.T), y)\n",
    "        return params\n",
    "\n",
    "model = LinearModel('y ~ x + np.power(x,2)', df)\n",
    "model.fit()\n",
    "model.params"
   ]
  },
  {
   "cell_type": "code",
   "execution_count": 95,
   "id": "0d14b326",
   "metadata": {},
   "outputs": [
    {
     "data": {
      "text/plain": [
       "'x + np.power(x, 2)'"
      ]
     },
     "execution_count": 95,
     "metadata": {},
     "output_type": "execute_result"
    }
   ],
   "source": [
    "formula ='y ~ x + np.power(x, 2)'\n",
    "formula.split('~')[1].strip()"
   ]
  },
  {
   "cell_type": "code",
   "execution_count": null,
   "id": "be4b9f7f",
   "metadata": {},
   "outputs": [],
   "source": []
  },
  {
   "cell_type": "code",
   "execution_count": 75,
   "id": "3530074f",
   "metadata": {},
   "outputs": [
    {
     "data": {
      "text/html": [
       "<div>\n",
       "<style scoped>\n",
       "    .dataframe tbody tr th:only-of-type {\n",
       "        vertical-align: middle;\n",
       "    }\n",
       "\n",
       "    .dataframe tbody tr th {\n",
       "        vertical-align: top;\n",
       "    }\n",
       "\n",
       "    .dataframe thead th {\n",
       "        text-align: right;\n",
       "    }\n",
       "</style>\n",
       "<table border=\"1\" class=\"dataframe\">\n",
       "  <thead>\n",
       "    <tr style=\"text-align: right;\">\n",
       "      <th></th>\n",
       "      <th>x</th>\n",
       "      <th>y</th>\n",
       "    </tr>\n",
       "  </thead>\n",
       "  <tbody>\n",
       "    <tr>\n",
       "      <th>0</th>\n",
       "      <td>0.000000</td>\n",
       "      <td>-4.890171</td>\n",
       "    </tr>\n",
       "    <tr>\n",
       "      <th>1</th>\n",
       "      <td>0.526316</td>\n",
       "      <td>2.542395</td>\n",
       "    </tr>\n",
       "    <tr>\n",
       "      <th>2</th>\n",
       "      <td>1.052632</td>\n",
       "      <td>-6.772185</td>\n",
       "    </tr>\n",
       "    <tr>\n",
       "      <th>3</th>\n",
       "      <td>1.578947</td>\n",
       "      <td>13.473529</td>\n",
       "    </tr>\n",
       "    <tr>\n",
       "      <th>4</th>\n",
       "      <td>2.105263</td>\n",
       "      <td>5.188319</td>\n",
       "    </tr>\n",
       "  </tbody>\n",
       "</table>\n",
       "</div>"
      ],
      "text/plain": [
       "          x          y\n",
       "0  0.000000  -4.890171\n",
       "1  0.526316   2.542395\n",
       "2  1.052632  -6.772185\n",
       "3  1.578947  13.473529\n",
       "4  2.105263   5.188319"
      ]
     },
     "execution_count": 75,
     "metadata": {},
     "output_type": "execute_result"
    }
   ],
   "source": [
    "# Create dataset, y = 2 + 3x + error\n",
    "\n",
    "x = np.linspace(0, 10, 20)\n",
    "y = 2 + 3*x + np.random.normal(scale = 5, size = 20)\n",
    "\n",
    "df = pd.DataFrame({'x': x, 'y':y})\n",
    "df.head()"
   ]
  },
  {
   "cell_type": "code",
   "execution_count": 33,
   "id": "13d68504",
   "metadata": {},
   "outputs": [
    {
     "data": {
      "image/png": "[encoded data removed]",
      "text/plain": [
       "<Figure size 360x360 with 1 Axes>"
      ]
     },
     "metadata": {
      "needs_background": "light"
     },
     "output_type": "display_data"
    }
   ],
   "source": [
    "sns.lmplot(x = 'x', y = 'y', data = df)\n",
    "plt.show()"
   ]
  },
  {
   "cell_type": "code",
   "execution_count": 34,
   "id": "1075d99b",
   "metadata": {},
   "outputs": [
    {
     "data": {
      "text/plain": [
       "(20,)"
      ]
     },
     "execution_count": 34,
     "metadata": {},
     "output_type": "execute_result"
    }
   ],
   "source": [
    "p = normal_equation(df['x'], df['y'])\n",
    "p\n",
    "df['x'].shape"
   ]
  },
  {
   "cell_type": "code",
   "execution_count": 100,
   "id": "af52150f",
   "metadata": {},
   "outputs": [
    {
     "data": {
      "text/plain": [
       "Intercept        -2.735199\n",
       "x                 3.956312\n",
       "np.power(x, 2)   -0.039200\n",
       "dtype: float64"
      ]
     },
     "execution_count": 100,
     "metadata": {},
     "output_type": "execute_result"
    }
   ],
   "source": [
    "# Create model using statsmodels\n",
    "\n",
    "model = sm.OLS.from_formula('y ~ x + np.power(x, 2)', data= df).fit()\n",
    "model.params"
   ]
  },
  {
   "cell_type": "code",
   "execution_count": 72,
   "id": "d9579738",
   "metadata": {},
   "outputs": [
    {
     "name": "stdout",
     "output_type": "stream",
     "text": [
      "3.58718118200796\n",
      "[2.74941184]\n"
     ]
    }
   ],
   "source": [
    "# Create model using sklearn\n",
    "model_sk = LinearRegression()\n",
    "model_sk.fit(df[['x']], df['y'])\n",
    "print(model_sk.intercept_)\n",
    "print(model_sk.coef_)"
   ]
  },
  {
   "cell_type": "code",
   "execution_count": 73,
   "id": "36d660da",
   "metadata": {},
   "outputs": [],
   "source": [
    "preds = model_sk.predict(df[['x']])"
   ]
  },
  {
   "cell_type": "code",
   "execution_count": 74,
   "id": "dd2bfd67",
   "metadata": {},
   "outputs": [
    {
     "data": {
      "image/png": "[encoded data removed]",
      "text/plain": [
       "<Figure size 432x288 with 1 Axes>"
      ]
     },
     "metadata": {
      "needs_background": "light"
     },
     "output_type": "display_data"
    }
   ],
   "source": [
    "plt.scatter(x, y, color = 'green')\n",
    "plt.plot(x, p[0] + p[1]*x, label = 'Homemade')\n",
    "plt.plot(x, model.params[0] + model.params[1]*x, label = 'Statsmodels', color = 'red')\n",
    "plt.plot(x, preds, label = 'sklearn')\n",
    "plt.xlabel('x')\n",
    "plt.ylabel('y')\n",
    "plt.legend()\n",
    "plt.show()"
   ]
  },
  {
   "cell_type": "code",
   "execution_count": null,
   "id": "1e31a7e1",
   "metadata": {},
   "outputs": [],
   "source": []
  },
  {
   "cell_type": "code",
   "execution_count": null,
   "id": "070a1b31",
   "metadata": {},
   "outputs": [],
   "source": []
  }
 ],
 "metadata": {
  "kernelspec": {
   "display_name": "Python 3",
   "language": "python",
   "name": "python3"
  },
  "language_info": {
   "codemirror_mode": {
    "name": "ipython",
    "version": 3
   },
   "file_extension": ".py",
   "mimetype": "text/x-python",
   "name": "python",
   "nbconvert_exporter": "python",
   "pygments_lexer": "ipython3",
   "version": "3.8.8"
  }
 },
 "nbformat": 4,
 "nbformat_minor": 5
}
